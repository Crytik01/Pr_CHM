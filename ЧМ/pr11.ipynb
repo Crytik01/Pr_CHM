{
  "metadata": {
    "language_info": {
      "codemirror_mode": {
        "name": "python",
        "version": 3
      },
      "file_extension": ".py",
      "mimetype": "text/x-python",
      "name": "python",
      "nbconvert_exporter": "python",
      "pygments_lexer": "ipython3",
      "version": "3.8"
    },
    "kernelspec": {
      "name": "python",
      "display_name": "Python (Pyodide)",
      "language": "python"
    }
  },
  "nbformat_minor": 4,
  "nbformat": 4,
  "cells": [
    {
      "cell_type": "code",
      "source": "#метод трапецій\n\nfrom scipy import integrate\nimport numpy as np\n\nn = 20\na = 0.32\nb = 0.66\n\ndef f(x):\n    return 1 / (np.sqrt(pow(x,2)+ 2.3))\n\ndef trapeze(f, a, b, n):\n    \n    h = (b - a) / n\n    x = a\n    \n    sum = 0\n    \n    for i in range(1, n):\n        x += h\n        sum += 2 * f(x)\n    \n    sum += f(b)\n    integral = h / 2 * sum\n\n    return integral\n\n#Перевірка точності \n\nintegral1 = trapeze(f, a, b, n)\nn *= 2\nintegral2 = trapeze(f, a, b, n)\n\nwhile abs(integral2 - integral1) / 3 > 0.001:\n    integral1 = integral2\n    n *= 2\n    integral2 = trapeze(f, a, b, n)\n\nprint(\"Метод трапеції:\", round(integral2, 3))\n\nv,err = integrate.quad(f,3.2,4)\nprint(\"Перевірка методу трапецій:\",round(v, 5))\n",
      "metadata": {
        "trusted": true
      },
      "execution_count": 1,
      "outputs": [
        {
          "name": "stdout",
          "text": "Метод трапеції: 0.21\nПеревірка методу трапецій: 0.20535\n",
          "output_type": "stream"
        }
      ]
    },
    {
      "cell_type": "code",
      "source": "#метод прямокутника\nfrom scipy import integrate\nimport numpy as np\n\neps = 0.001\nn = 10\na = 0.32\nb = 0.66\n\ndef f(x):\n    return 1 / (np.sqrt(pow(x,2)+ 2.3))\n\ndef left(f,a,b,n): \n    h=(b-a)/n \n    sum=0\n    \n    for i in range(0,n): \n        sum+=f(a+i*h) \n    return sum*h \n\nv,err = integrate.quad(f,a,b)\n\n#Перевірка точності\nif abs(left(f,a,b,2*10) - left(f,a,b,10))/3. <=eps:\n    print(\"Лівий прямокутник:\",round (left(f,a,b,10), 5)) \n\ndef right(f,a,b,n): \n    h=(b-a)/n \n    sum=0 \n    \n    for i in range(1,n+1): \n        sum+=f(a+i*h) \n    return sum*h \n\nprint(\"Правий прямокутник:\",round (right(f,a,b,10), 5))\n\ndef aver(f,a,b,n): \n    h=0.08 \n    sum=0\n    \n    for i in range(0,n): \n        sum+=f(a+i*h) \n    return sum*h \n\nprint(\"Середній прямокутник:\",round (aver(f,a,b,10), 5)) \nprint(\"Перевірка методу прямокутників: \",round (v, 5))\n",
      "metadata": {
        "trusted": true
      },
      "execution_count": 5,
      "outputs": [
        {
          "name": "stdout",
          "text": "Лівий прямокутник: 0.21373\nПравий прямокутник: 0.21235\nСередній прямокутник: 0.47901\nПеревірка методу прямокутників:  0.21304\n",
          "output_type": "stream"
        }
      ]
    },
    {
      "cell_type": "code",
      "source": "#Метод Сімпсона\nfrom scipy import integrate\nimport numpy as np\n\nn = 8\na = 0.32\nb = 0.66\n\ndef simpson_met(f, a, b, n):\n    h = (b - a) / n \n    integr = f(a) + f(b) \n    \n    for i in range(1,n): \n        k = a + i*h \n        \n        if i%2 == 0: \n            integr += 2 * f(k) \n        \n        else: \n            integr += 4 * f(k) \n    \n    integr *= h/3 \n    \n    return integr \n\nintegral1 = simpson_met(f, a, b, n)\nn *= 2\nintegral2 = simpson_met(f, a, b, n)\n\nwhile abs(integral2 - integral1) / 15 > 0.001:\n    integral1 = integral2\n    n *= 2\n    integral2 = simpson_met(f, a, b, n)\n    \nprint(\"Метод Сімпсона:\", round(integral2, 3))\n\nv,err = integrate.quad(f,a,b) \nprint(\"Перевірка методу Сімпсона:\", round(v, 3))",
      "metadata": {
        "trusted": true
      },
      "execution_count": 8,
      "outputs": [
        {
          "name": "stdout",
          "text": "Метод Сімпсона: 0.213\nПеревірка методу Сімпсона: 0.213\n",
          "output_type": "stream"
        }
      ]
    },
    {
      "cell_type": "code",
      "source": "",
      "metadata": {},
      "execution_count": null,
      "outputs": []
    }
  ]
}