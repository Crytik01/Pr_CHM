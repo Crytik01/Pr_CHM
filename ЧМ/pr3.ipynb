{
  "metadata": {
    "language_info": {
      "codemirror_mode": {
        "name": "python",
        "version": 3
      },
      "file_extension": ".py",
      "mimetype": "text/x-python",
      "name": "python",
      "nbconvert_exporter": "python",
      "pygments_lexer": "ipython3",
      "version": "3.8"
    },
    "kernelspec": {
      "name": "python",
      "display_name": "Python (Pyodide)",
      "language": "python"
    }
  },
  "nbformat_minor": 4,
  "nbformat": 4,
  "cells": [
    {
      "cell_type": "code",
      "source": "import numpy as np\nimport math\nfrom scipy.misc import derivative\n\n#6x^4+4x^3+x^2+x-10\n\neps = 0.0001\na=-2\nb=-1\n\ndef f(x):\n    return 6*pow(x,4)+ 4*pow(x,3)+pow(x,2)+x-10\n\ndf2 = derivative(f, b, n = 2) \n\nif (f(b)*df2>0):\n\n    x = b \n\nelse: \n\n    x = a \n\ndf = derivative(f,x, n= 1) \n\nx1 = xi - f(x)/df \n\nwhile (abs(x1 - x)>eps): #accuracy check \n\n    x = x1 \n\n    x1 = x - f(x)/df \n\nprint ('Відповідь x = ', x1)",
      "metadata": {
        "trusted": true
      },
      "execution_count": null,
      "outputs": []
    }
  ]
}