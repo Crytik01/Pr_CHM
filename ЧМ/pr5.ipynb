{
  "metadata": {
    "language_info": {
      "codemirror_mode": {
        "name": "python",
        "version": 3
      },
      "file_extension": ".py",
      "mimetype": "text/x-python",
      "name": "python",
      "nbconvert_exporter": "python",
      "pygments_lexer": "ipython3",
      "version": "3.8"
    },
    "kernelspec": {
      "name": "python",
      "display_name": "Python (Pyodide)",
      "language": "python"
    }
  },
  "nbformat_minor": 4,
  "nbformat": 4,
  "cells": [
    {
      "cell_type": "code",
      "source": "import numpy as np\nfrom scipy import optimize\nfrom scipy.misc import derivative\nimport math\n\nx0 = -0.29\ny0 = 1.143\ndelta = 0.001\n\ndef f1(y):\n    return -1/2*math.sin(x)-1\ndef f2 (x):\n    return -1*math.cos(y-1)+0,7\n \ndef iter (x,y,e):\n    xn = x\n    yn = y\n    xn1 = f2(x)\n    yn1 = f1(y)\n    n = 1\n    while ((abs(xn1-xn)>=e) & (abs(yn1-yn) >=e)):\n        xn = xn1\n        yn = yn1\n        xn1 = f2(yn)\n        yn1 = f1(xn)\n        n += 1\n    print ('Simple iteration:')\n    print ('x=', xn, '\\ny=',yn,'\\nThe amount of iteration = ',n)\niter(x0,y0,delta)\n\ndef f3(x):\n    return sin(x)[0] + 2*x[1] - 2, math.cos(x[0] - 1) + x[1] -0,7\ns = optimize.root(f3, [0.,0.], method = 'hybr') \nprint ('Chek',s.x)\n",
      "metadata": {
        "trusted": true
      },
      "execution_count": 17,
      "outputs": [
        {
          "ename": "<class 'NameError'>",
          "evalue": "name 'y' is not defined",
          "traceback": [
            "\u001b[0;31m---------------------------------------------------------------------------\u001b[0m",
            "\u001b[0;31mNameError\u001b[0m                                 Traceback (most recent call last)",
            "Cell \u001b[0;32mIn[17], line 29\u001b[0m\n\u001b[1;32m     27\u001b[0m     \u001b[38;5;28mprint\u001b[39m (\u001b[38;5;124m'\u001b[39m\u001b[38;5;124mSimple iteration:\u001b[39m\u001b[38;5;124m'\u001b[39m)\n\u001b[1;32m     28\u001b[0m     \u001b[38;5;28mprint\u001b[39m (\u001b[38;5;124m'\u001b[39m\u001b[38;5;124mx=\u001b[39m\u001b[38;5;124m'\u001b[39m, xn, \u001b[38;5;124m'\u001b[39m\u001b[38;5;130;01m\\n\u001b[39;00m\u001b[38;5;124my=\u001b[39m\u001b[38;5;124m'\u001b[39m,yn,\u001b[38;5;124m'\u001b[39m\u001b[38;5;130;01m\\n\u001b[39;00m\u001b[38;5;124mThe amount of iteration = \u001b[39m\u001b[38;5;124m'\u001b[39m,n)\n\u001b[0;32m---> 29\u001b[0m \u001b[38;5;28;43miter\u001b[39;49m\u001b[43m(\u001b[49m\u001b[43mx0\u001b[49m\u001b[43m,\u001b[49m\u001b[43my0\u001b[49m\u001b[43m,\u001b[49m\u001b[43mdelta\u001b[49m\u001b[43m)\u001b[49m\n\u001b[1;32m     31\u001b[0m \u001b[38;5;28;01mdef\u001b[39;00m \u001b[38;5;21mf3\u001b[39m(x):\n\u001b[1;32m     32\u001b[0m     \u001b[38;5;28;01mreturn\u001b[39;00m sin(x)[\u001b[38;5;241m0\u001b[39m] \u001b[38;5;241m+\u001b[39m \u001b[38;5;241m2\u001b[39m\u001b[38;5;241m*\u001b[39mx[\u001b[38;5;241m1\u001b[39m] \u001b[38;5;241m-\u001b[39m \u001b[38;5;241m2\u001b[39m, math\u001b[38;5;241m.\u001b[39mcos(x[\u001b[38;5;241m0\u001b[39m] \u001b[38;5;241m-\u001b[39m \u001b[38;5;241m1\u001b[39m) \u001b[38;5;241m+\u001b[39m x[\u001b[38;5;241m1\u001b[39m] \u001b[38;5;241m-\u001b[39m\u001b[38;5;241m0\u001b[39m,\u001b[38;5;241m7\u001b[39m\n",
            "Cell \u001b[0;32mIn[17], line 18\u001b[0m, in \u001b[0;36miter\u001b[0;34m(x, y, e)\u001b[0m\n\u001b[1;32m     16\u001b[0m xn \u001b[38;5;241m=\u001b[39m x\n\u001b[1;32m     17\u001b[0m yn \u001b[38;5;241m=\u001b[39m y\n\u001b[0;32m---> 18\u001b[0m xn1 \u001b[38;5;241m=\u001b[39m \u001b[43mf2\u001b[49m\u001b[43m(\u001b[49m\u001b[43mx\u001b[49m\u001b[43m)\u001b[49m\n\u001b[1;32m     19\u001b[0m yn1 \u001b[38;5;241m=\u001b[39m f1(y)\n\u001b[1;32m     20\u001b[0m n \u001b[38;5;241m=\u001b[39m \u001b[38;5;241m1\u001b[39m\n",
            "Cell \u001b[0;32mIn[17], line 13\u001b[0m, in \u001b[0;36mf2\u001b[0;34m(x)\u001b[0m\n\u001b[1;32m     12\u001b[0m \u001b[38;5;28;01mdef\u001b[39;00m \u001b[38;5;21mf2\u001b[39m (x):\n\u001b[0;32m---> 13\u001b[0m     \u001b[38;5;28;01mreturn\u001b[39;00m \u001b[38;5;241m-\u001b[39m\u001b[38;5;241m1\u001b[39m\u001b[38;5;241m*\u001b[39mmath\u001b[38;5;241m.\u001b[39mcos(\u001b[43my\u001b[49m\u001b[38;5;241m-\u001b[39m\u001b[38;5;241m1\u001b[39m)\u001b[38;5;241m+\u001b[39m\u001b[38;5;241m0\u001b[39m,\u001b[38;5;241m7\u001b[39m\n",
            "\u001b[0;31mNameError\u001b[0m: name 'y' is not defined"
          ],
          "output_type": "error"
        }
      ]
    },
    {
      "cell_type": "code",
      "source": "import numpy as np\nfrom scipy import optimize\nfrom scipy.misc import derivative\nimport math\n\nx0 = 0.16\ny0 = -2.1\ndelta = 0.1\n\ndef f1(y):\n    return 1/3*math.cos(y) + 0.3 #задаємо функції\ndef f2 (x):\n    return math.sin(x - 0.6) - 1.6 #задаємо функції\n \ndef iter (x,y,e):\n    xn = x\n    yn = y\n    xn1 = f2(x)\n    yn1 = f1(y)\n    n = 1\n    while ((abs(xn1-xn)>=e) & (abs(yn1-yn) >=e)):\n        xn = xn1\n        yn = yn1\n        xn1 = f2(yn)\n        yn1 = f1(xn)\n        n += 1\n    print ('Simple iteration:')\n    print ('x=', xn, '\\ny=',yn,'\\nThe amount of iteration = ',n)\niter(x0,y0,0.0001)\n\ndef f3(x): #Задаємо функцію для перевірки\n    return 3*x[0] -  math.cos(x[1])  - 0.9, math.sin(x[0] - 0.6) - x[1] -1.6\ns = optimize.root(f3, [0.,0.], method = 'hybr') #Перевірка розв*язку      #Відповіді мають співпасти\nprint ('Chek',s.x)\ndef f3(x):\n    return sin(x)[0] + 2x[1] - 2, math.cos(x[0] - 1) + x[1] -0,7\ns = optimize.root(f3, [0.,0.], method = 'hybr') \nprint ('Chek',s.x)",
      "metadata": {
        "trusted": true
      },
      "execution_count": 8,
      "outputs": [
        {
          "ename": "<class 'NameError'>",
          "evalue": "name 'x' is not defined",
          "traceback": [
            "\u001b[0;31m---------------------------------------------------------------------------\u001b[0m",
            "\u001b[0;31mNameError\u001b[0m                                 Traceback (most recent call last)",
            "Cell \u001b[0;32mIn[8], line 29\u001b[0m\n\u001b[1;32m     27\u001b[0m     \u001b[38;5;28mprint\u001b[39m (\u001b[38;5;124m'\u001b[39m\u001b[38;5;124mSimple iteration:\u001b[39m\u001b[38;5;124m'\u001b[39m)\n\u001b[1;32m     28\u001b[0m     \u001b[38;5;28mprint\u001b[39m (\u001b[38;5;124m'\u001b[39m\u001b[38;5;124mx=\u001b[39m\u001b[38;5;124m'\u001b[39m, xn, \u001b[38;5;124m'\u001b[39m\u001b[38;5;130;01m\\n\u001b[39;00m\u001b[38;5;124my=\u001b[39m\u001b[38;5;124m'\u001b[39m,yn,\u001b[38;5;124m'\u001b[39m\u001b[38;5;130;01m\\n\u001b[39;00m\u001b[38;5;124mThe amount of iteration = \u001b[39m\u001b[38;5;124m'\u001b[39m,n)\n\u001b[0;32m---> 29\u001b[0m \u001b[38;5;28;43miter\u001b[39;49m\u001b[43m(\u001b[49m\u001b[43mx0\u001b[49m\u001b[43m,\u001b[49m\u001b[43my0\u001b[49m\u001b[43m,\u001b[49m\u001b[38;5;241;43m0.0001\u001b[39;49m\u001b[43m)\u001b[49m\n\u001b[1;32m     31\u001b[0m \u001b[38;5;28;01mdef\u001b[39;00m \u001b[38;5;21mf3\u001b[39m(x): \u001b[38;5;66;03m#Задаємо функцію для перевірки\u001b[39;00m\n\u001b[1;32m     32\u001b[0m     \u001b[38;5;28;01mreturn\u001b[39;00m \u001b[38;5;241m3\u001b[39m\u001b[38;5;241m*\u001b[39mx[\u001b[38;5;241m0\u001b[39m] \u001b[38;5;241m-\u001b[39m  math\u001b[38;5;241m.\u001b[39mcos(x[\u001b[38;5;241m1\u001b[39m])  \u001b[38;5;241m-\u001b[39m \u001b[38;5;241m0.9\u001b[39m, math\u001b[38;5;241m.\u001b[39msin(x[\u001b[38;5;241m0\u001b[39m] \u001b[38;5;241m-\u001b[39m \u001b[38;5;241m0.6\u001b[39m) \u001b[38;5;241m-\u001b[39m x[\u001b[38;5;241m1\u001b[39m] \u001b[38;5;241m-\u001b[39m\u001b[38;5;241m1.6\u001b[39m\n",
            "Cell \u001b[0;32mIn[8], line 19\u001b[0m, in \u001b[0;36miter\u001b[0;34m(x, y, e)\u001b[0m\n\u001b[1;32m     17\u001b[0m yn \u001b[38;5;241m=\u001b[39m y\n\u001b[1;32m     18\u001b[0m xn1 \u001b[38;5;241m=\u001b[39m f2(x)\n\u001b[0;32m---> 19\u001b[0m yn1 \u001b[38;5;241m=\u001b[39m \u001b[43mf1\u001b[49m\u001b[43m(\u001b[49m\u001b[43my\u001b[49m\u001b[43m)\u001b[49m\n\u001b[1;32m     20\u001b[0m n \u001b[38;5;241m=\u001b[39m \u001b[38;5;241m1\u001b[39m\n\u001b[1;32m     21\u001b[0m \u001b[38;5;28;01mwhile\u001b[39;00m ((\u001b[38;5;28mabs\u001b[39m(xn1\u001b[38;5;241m-\u001b[39mxn)\u001b[38;5;241m>\u001b[39m\u001b[38;5;241m=\u001b[39me) \u001b[38;5;241m&\u001b[39m (\u001b[38;5;28mabs\u001b[39m(yn1\u001b[38;5;241m-\u001b[39myn) \u001b[38;5;241m>\u001b[39m\u001b[38;5;241m=\u001b[39me)):\n",
            "Cell \u001b[0;32mIn[8], line 11\u001b[0m, in \u001b[0;36mf1\u001b[0;34m(y)\u001b[0m\n\u001b[1;32m     10\u001b[0m \u001b[38;5;28;01mdef\u001b[39;00m \u001b[38;5;21mf1\u001b[39m(y):\n\u001b[0;32m---> 11\u001b[0m     \u001b[38;5;28;01mreturn\u001b[39;00m \u001b[38;5;241m1\u001b[39m\u001b[38;5;241m/\u001b[39m\u001b[38;5;241m3\u001b[39m\u001b[38;5;241m*\u001b[39mmath\u001b[38;5;241m.\u001b[39mcos(\u001b[43mx\u001b[49m) \u001b[38;5;241m+\u001b[39m \u001b[38;5;241m0.3\u001b[39m\n",
            "\u001b[0;31mNameError\u001b[0m: name 'x' is not defined"
          ],
          "output_type": "error"
        }
      ]
    },
    {
      "cell_type": "code",
      "source": "",
      "metadata": {},
      "execution_count": null,
      "outputs": []
    }
  ]
}