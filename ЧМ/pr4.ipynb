{
  "metadata": {
    "language_info": {
      "codemirror_mode": {
        "name": "python",
        "version": 3
      },
      "file_extension": ".py",
      "mimetype": "text/x-python",
      "name": "python",
      "nbconvert_exporter": "python",
      "pygments_lexer": "ipython3",
      "version": "3.8"
    },
    "kernelspec": {
      "name": "python",
      "display_name": "Python (Pyodide)",
      "language": "python"
    }
  },
  "nbformat_minor": 4,
  "nbformat": 4,
  "cells": [
    {
      "cell_type": "code",
      "source": "import numpy as np\n\nmatrix_a = np.array([[2,3,1],[-1,1,0],[1,2,-1]])\nmatrix_b = np.array([[1,2,1],[0,1,2],[3,1,1]])\n\nmatrix_c = matrix_a.dot(matrix_b) - matrix_b.dot(matrix_a)\n\nprint(matrix_c)",
      "metadata": {
        "trusted": true
      },
      "execution_count": 6,
      "outputs": [
        {
          "name": "stdout",
          "text": "[[ 4  1  9]\n [-2 -6  3]\n [-8 -9  2]]\n",
          "output_type": "stream"
        }
      ]
    },
    {
      "cell_type": "code",
      "source": "matrix = np.array([[-1,0,2],[0,1,0],[1,2,-1]])\nmatrix1 = np.linalg.matrix_power(matrix, 2)\n\nprint(matrix1)",
      "metadata": {
        "trusted": true
      },
      "execution_count": 8,
      "outputs": [
        {
          "name": "stdout",
          "text": "[[ 3  4 -4]\n [ 0  1  0]\n [-2  0  3]]\n",
          "output_type": "stream"
        }
      ]
    },
    {
      "cell_type": "code",
      "source": "matrix_a = np.array([[5,8,-4],[6,9,-5],[4,7,-3]])\nmatrix_b = np.array([[3,2,5],[4,-1,3],[9,6,5]])\n\nmatrix_c = matrix_a.dot(matrix_b)\n\nprint(matrix_c)",
      "metadata": {
        "trusted": true
      },
      "execution_count": 10,
      "outputs": [
        {
          "name": "stdout",
          "text": "[[ 11 -22  29]\n [  9 -27  32]\n [ 13 -17  26]]\n",
          "output_type": "stream"
        }
      ]
    },
    {
      "cell_type": "code",
      "source": "matrix = np.array([[2,3,4],[1,0,6],[7,8,9]])\nmatrix_det = np.linalg.det(matrix)\nprint(format(matrix_det, '.9g'))",
      "metadata": {
        "trusted": true
      },
      "execution_count": 15,
      "outputs": [
        {
          "name": "stdout",
          "text": "35\n",
          "output_type": "stream"
        }
      ]
    },
    {
      "cell_type": "code",
      "source": "matrix = np.array([[2,3,4,1],[1,2,3,4],[3,4,1,2],[4,1,2,3]])\nmatrix_det = np.linalg.det(matrix)\nprint(format(matrix_det, '.9g'))",
      "metadata": {
        "trusted": true
      },
      "execution_count": 16,
      "outputs": [
        {
          "name": "stdout",
          "text": "-160\n",
          "output_type": "stream"
        }
      ]
    },
    {
      "cell_type": "code",
      "source": "matrix = np.array([[2,1,0,0],[3,2,0,0],[1,1,3,4],[2,-1,2,3]])\nmatrix_invert = np.linalg.inv(matrix)\n\nprint(matrix_invert)",
      "metadata": {
        "trusted": true
      },
      "execution_count": 17,
      "outputs": [
        {
          "name": "stdout",
          "text": "[[  2.  -1.   0.   0.]\n [ -3.   2.   0.   0.]\n [ 31. -19.   3.  -4.]\n [-23.  14.  -2.   3.]]\n",
          "output_type": "stream"
        }
      ]
    },
    {
      "cell_type": "code",
      "source": "matrix = np.array([[-2,3,1,-1],[3,2,1,4],[1,2,3,4],[0,2,3,3]])\nrank = np.linalg.matrix_rank(matrix)\nprint(rank)",
      "metadata": {
        "trusted": true
      },
      "execution_count": 18,
      "outputs": [
        {
          "name": "stdout",
          "text": "3\n",
          "output_type": "stream"
        }
      ]
    },
    {
      "cell_type": "code",
      "source": "#3x-5y+3z=1\n#x+2y+z=4\n#2x+7y-z=8\n\nmatrix_a = np.array([[3,-5,3],[1,2,1],[2,7,-1]])\nmatrix_b = np.matrix('1;4;8')\n\nmatrix_inv_a = np.linalg.inv(matrix_a)\nmatrix_dot = matrix_inv_a.dot(matrix_b)\n\nprint('A=', matrix_a)\nprint('B=', matrix_b)\nprint('A^-1', matrix_inv_a)\nprint('A^-1 + B = ', matrix_dot)",
      "metadata": {
        "trusted": true
      },
      "execution_count": 21,
      "outputs": [
        {
          "name": "stdout",
          "text": "A= [[ 3 -5  3]\n [ 1  2  1]\n [ 2  7 -1]]\nB= [[1]\n [4]\n [8]]\nA^-1 [[ 0.27272727 -0.48484848  0.33333333]\n [-0.09090909  0.27272727  0.        ]\n [-0.09090909  0.93939394 -0.33333333]]\nA^-1 + B =  [[1.]\n [1.]\n [1.]]\n",
          "output_type": "stream"
        }
      ]
    },
    {
      "cell_type": "code",
      "source": "matrix_a = np.array([[3,-5,3],[1,2,1],[2,7,-1]])\nmatrix_b = np.matrix('1;4;8')\n\ndet_a = np.linalg.det(matrix_a)\nif det_a != 0:\n    a1 = np.matrix(matrix_a)\n    a2 = np.matrix(matrix_a)\n    a3 = np.matrix(matrix_a)\n    a1[:, 0] = matrix_b\n    a2[:, 1] = matrix_b\n    a3[:, 2] = matrix_b\n    x = np.linalg.det(a1)/det_a\n    y =np.linalg.det(a2)/det_a\n    z= np.linalg.det(a3)/det_a\n    print('x=',x.round(3),'y=',y.round(3),'z=',z.round(3)) \nelse:\n    print(\"Визначник дорівнює нулю, система не має розв'язків\")\n    \nprint(np.linalg.solve(matrix_a,matrix_b).round(3)) \n",
      "metadata": {
        "trusted": true
      },
      "execution_count": 22,
      "outputs": [
        {
          "name": "stdout",
          "text": "x= 1.0 y= 1.0 z= 1.0\n[[1.]\n [1.]\n [1.]]\n",
          "output_type": "stream"
        }
      ]
    },
    {
      "cell_type": "code",
      "source": "#Створіть прямокутну матрицю A, яка має N рядків і M стовпців з випадковими елементами. Визначте середні значення для всіх рядків і стовпців матриці.\nn=4\nm=n\na=0\ni=0\nj=0\nmatrix = np.random.randint(0, 100, size=(n, m))\n\nprint(matrix)\n\nfor i in range(n):\n    for j  in range(n):\n        a += matrix[i,j]\n    ser = a/n\n    print(i + 1, 'рядок середнє: ', ser)\n    \nfor i in range(n):\n    for j  in range(n):\n        a += matrix[j,i]\n    ser = a/n\n    print(i + 1, 'стовпчик середнє: ', ser)",
      "metadata": {
        "trusted": true
      },
      "execution_count": 37,
      "outputs": [
        {
          "name": "stdout",
          "text": "[[48 87 21 44]\n [70 32 63 89]\n [33 78 63 46]\n [83 88 55 61]]\n1 рядок середнє:  50.0\n2 рядок середнє:  113.5\n3 рядок середнє:  168.5\n4 рядок середнє:  240.25\n1 стовпчик середнє:  298.75\n2 стовпчик середнє:  370.0\n3 стовпчик середнє:  420.5\n4 стовпчик середнє:  480.5\n",
          "output_type": "stream"
        }
      ]
    },
    {
      "cell_type": "code",
      "source": "",
      "metadata": {},
      "execution_count": null,
      "outputs": []
    }
  ]
}